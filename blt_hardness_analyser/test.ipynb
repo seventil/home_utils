{
 "cells": [
  {
   "cell_type": "code",
   "execution_count": null,
   "metadata": {},
   "outputs": [],
   "source": [
    "import asyncio\n",
    "from bleak import BleakScanner\n",
    "\n",
    "async def main():\n",
    "    devices = await BleakScanner.discover()\n",
    "    for d in devices:\n",
    "        print(d)\n",
    "\n",
    "asyncio.run(main())"
   ]
  }
 ],
 "metadata": {
  "language_info": {
   "name": "python"
  },
  "orig_nbformat": 4
 },
 "nbformat": 4,
 "nbformat_minor": 2
}

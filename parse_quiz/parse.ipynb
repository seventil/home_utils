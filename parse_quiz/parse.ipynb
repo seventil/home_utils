{
 "cells": [
  {
   "cell_type": "code",
   "execution_count": 2,
   "metadata": {},
   "outputs": [],
   "source": [
    "PAGE = \"https://quizack.com/django/questions-and-answers\"\n",
    "PAGE2 = \"https://quizack.com/django/questions-and-answers/2\""
   ]
  },
  {
   "cell_type": "code",
   "execution_count": 3,
   "metadata": {},
   "outputs": [],
   "source": [
    "import requests\n",
    "\n",
    "page_get_response = requests.get(url=PAGE)\n",
    "page2_get_response = requests.get(url=PAGE2)"
   ]
  },
  {
   "cell_type": "code",
   "execution_count": 10,
   "metadata": {},
   "outputs": [],
   "source": [
    "from bs4 import BeautifulSoup\n",
    "soup = BeautifulSoup(page_get_response.text, 'html.parser')\n",
    "soup2 = BeautifulSoup(page_get_response.text, 'html.parser')"
   ]
  },
  {
   "cell_type": "code",
   "execution_count": 73,
   "metadata": {},
   "outputs": [],
   "source": [
    "from collections import namedtuple\n",
    "Question = namedtuple(\"Question\", (\"number\", \"link\", \"text\"))\n",
    "\n",
    "def add_questions(soup_object):\n",
    "    for block in soup_object.find_all(attrs={\"class\": \"col-lg-6 col-md-6 col-sm-12 mt-2\"}):\n",
    "        question_html = block.contents[1].contents[1].contents[1].contents\n",
    "        q_numb = question_html[1].text\n",
    "        q_link = question_html[3].attrs[\"href\"]\n",
    "        q_text = question_html[3].contents[0].text\n",
    "        \n",
    "        q = Question(q_numb, q_link, q_text)\n",
    "        print(q)\n",
    "        \n",
    "        break"
   ]
  },
  {
   "cell_type": "code",
   "execution_count": 74,
   "metadata": {},
   "outputs": [
    {
     "name": "stdout",
     "output_type": "stream",
     "text": [
      "Question(number='1.', link='https://quizack.com/django/mcq/which-is-fictional-http-request-method', text='Which is Fictional HTTP request method?')\n"
     ]
    }
   ],
   "source": [
    "questions = []\n",
    "\n",
    "add_questions(soup)\n",
    "\n",
    "\n"
   ]
  }
 ],
 "metadata": {
  "kernelspec": {
   "display_name": "Python 3",
   "language": "python",
   "name": "python3"
  },
  "language_info": {
   "codemirror_mode": {
    "name": "ipython",
    "version": 3
   },
   "file_extension": ".py",
   "mimetype": "text/x-python",
   "name": "python",
   "nbconvert_exporter": "python",
   "pygments_lexer": "ipython3",
   "version": "3.9.0"
  }
 },
 "nbformat": 4,
 "nbformat_minor": 2
}

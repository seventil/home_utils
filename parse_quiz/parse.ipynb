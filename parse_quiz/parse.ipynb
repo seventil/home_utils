{
 "cells": [
  {
   "cell_type": "code",
   "execution_count": null,
   "metadata": {},
   "outputs": [],
   "source": [
    "from urllib.parse import urljoin\n",
    "import requests\n",
    "import json\n",
    "from bs4 import BeautifulSoup\n",
    "from collections import namedtuple\n",
    "\n",
    "class QuizIterator():\n",
    "    def __init__(self, address, pages):\n",
    "        self._address = address\n",
    "        self._index = 1\n",
    "        self._pages = pages\n",
    "\n",
    "    def __iter__(self):\n",
    "        return self\n",
    "\n",
    "    def __next__(self):\n",
    "        if self._index <= self._pages:\n",
    "            address = urljoin(self._address, str(self._index))\n",
    "            self._index += 1\n",
    "            return address\n",
    "        else:\n",
    "            raise StopIteration\n",
    "        \n",
    "Question = namedtuple(\"Question\", (\"number\", \"link\", \"text\"))\n",
    "\n",
    "AMAZON_QUIZ_TYPE = \"amazon-web-services\"\n",
    "PYTHON_QUIZ_TYPE = \"python\"\n",
    "PAGES = 4\n",
    "PAGE = f\"https://quizack.com/{AMAZON_QUIZ_TYPE}/questions-and-answers/\"\n"
   ]
  },
  {
   "cell_type": "code",
   "execution_count": null,
   "metadata": {},
   "outputs": [],
   "source": [
    "def add_questions(soup_object, questions: list):\n",
    "    for block in soup_object.find_all(attrs={\"class\": \"col-lg-6 col-md-6 col-sm-12 mt-2\"}):\n",
    "        question_html = block.contents[1].contents[1].contents[1].contents\n",
    "        q_numb = question_html[1].text\n",
    "        q_link = question_html[3].attrs[\"href\"]\n",
    "        q_text = question_html[3].contents[0].text\n",
    "        \n",
    "        q = Question(q_numb, q_link, q_text)\n",
    "        questions.append(q)"
   ]
  },
  {
   "cell_type": "code",
   "execution_count": null,
   "metadata": {},
   "outputs": [],
   "source": [
    "questions = []\n",
    "\n",
    "for quiz in QuizIterator(PAGE, PAGES):\n",
    "    page_get_response = requests.get(url=quiz)\n",
    "    soup = BeautifulSoup(page_get_response.text, 'html.parser')\n",
    "    add_questions(soup, questions)\n",
    "\n",
    "print(len(questions))\n"
   ]
  },
  {
   "cell_type": "code",
   "execution_count": null,
   "metadata": {},
   "outputs": [],
   "source": [
    "def parse_answers(test_question: Question):\n",
    "    qpage_get_response = requests.get(url=test_question.link)\n",
    "    q_soup = BeautifulSoup(qpage_get_response.text, 'html.parser')\n",
    "    mcq_area = q_soup.find(attrs={\"class\": \"col-12 mcq-area\"})\n",
    "    question_areas = mcq_area.find_all(attrs={\"class\": \"d-flex rounded align-items-center border position-relative mt-3 ans-options\"})\n",
    "    answers = {}\n",
    "    for area in question_areas:\n",
    "        try: \n",
    "            check = area.contents[3].contents[1].attrs[\"check\"]\n",
    "            answer = area.contents[5].text\n",
    "        except IndexError:\n",
    "            print(area.contents)\n",
    "            check = \"undefined\"\n",
    "            answer = \"undefined\"\n",
    "        answers[answer] = check\n",
    "\n",
    "    return answers"
   ]
  },
  {
   "cell_type": "code",
   "execution_count": null,
   "metadata": {},
   "outputs": [],
   "source": [
    "quiz_output = {}\n",
    "\n",
    "for test_quest in questions:\n",
    "    quiz_output[test_quest.text] = parse_answers(test_quest)"
   ]
  },
  {
   "cell_type": "code",
   "execution_count": null,
   "metadata": {},
   "outputs": [],
   "source": [
    "with open(f\"{AMAZON_QUIZ_TYPE}.json\", \"w\", encoding=\"utf-8\") as stream:\n",
    "    json.dump(quiz_output, stream, indent=2)"
   ]
  }
 ],
 "metadata": {
  "kernelspec": {
   "display_name": "Python 3",
   "language": "python",
   "name": "python3"
  },
  "language_info": {
   "codemirror_mode": {
    "name": "ipython",
    "version": 3
   },
   "file_extension": ".py",
   "mimetype": "text/x-python",
   "name": "python",
   "nbconvert_exporter": "python",
   "pygments_lexer": "ipython3",
   "version": "3.10.12"
  }
 },
 "nbformat": 4,
 "nbformat_minor": 2
}

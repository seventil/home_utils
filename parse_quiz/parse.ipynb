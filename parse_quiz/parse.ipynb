{
 "cells": [
  {
   "cell_type": "code",
   "execution_count": 31,
   "metadata": {},
   "outputs": [],
   "source": [
    "from urllib.parse import urljoin\n",
    "\n",
    "class QuizIterator():\n",
    "    def __init__(self, address, pages):\n",
    "        self._address = address\n",
    "        self._index = 1\n",
    "        self._pages = pages\n",
    "\n",
    "    def __iter__(self):\n",
    "        return self\n",
    "\n",
    "    def __next__(self):\n",
    "        if self._index <= self._pages:\n",
    "            address = urljoin(self._address, str(self._index))\n",
    "            self._index += 1\n",
    "            return address\n",
    "        else:\n",
    "            raise StopIteration"
   ]
  },
  {
   "cell_type": "code",
   "execution_count": 32,
   "metadata": {},
   "outputs": [
    {
     "name": "stdout",
     "output_type": "stream",
     "text": [
      "https://quizack.com/django/questions-and-answers/1\n",
      "https://quizack.com/django/questions-and-answers/2\n"
     ]
    }
   ],
   "source": [
    "PAGE = \"https://quizack.com/django/questions-and-answers/\"\n",
    "for quiz in QuizIterator(PAGE, 2):\n",
    "    print(quiz)"
   ]
  },
  {
   "cell_type": "code",
   "execution_count": 3,
   "metadata": {},
   "outputs": [],
   "source": [
    "import requests\n",
    "\n",
    "page_get_response = requests.get(url=PAGE)"
   ]
  },
  {
   "cell_type": "code",
   "execution_count": 10,
   "metadata": {},
   "outputs": [],
   "source": [
    "from bs4 import BeautifulSoup\n",
    "soup = BeautifulSoup(page_get_response.text, 'html.parser')\n",
    "soup2 = BeautifulSoup(page_get_response.text, 'html.parser')"
   ]
  },
  {
   "cell_type": "code",
   "execution_count": 73,
   "metadata": {},
   "outputs": [],
   "source": [
    "from collections import namedtuple\n",
    "Question = namedtuple(\"Question\", (\"number\", \"link\", \"text\"))\n",
    "\n",
    "def add_questions(soup_object):\n",
    "    for block in soup_object.find_all(attrs={\"class\": \"col-lg-6 col-md-6 col-sm-12 mt-2\"}):\n",
    "        question_html = block.contents[1].contents[1].contents[1].contents\n",
    "        q_numb = question_html[1].text\n",
    "        q_link = question_html[3].attrs[\"href\"]\n",
    "        q_text = question_html[3].contents[0].text\n",
    "        \n",
    "        q = Question(q_numb, q_link, q_text)\n",
    "        print(q)\n",
    "        \n",
    "        break"
   ]
  },
  {
   "cell_type": "code",
   "execution_count": 74,
   "metadata": {},
   "outputs": [
    {
     "name": "stdout",
     "output_type": "stream",
     "text": [
      "Question(number='1.', link='https://quizack.com/django/mcq/which-is-fictional-http-request-method', text='Which is Fictional HTTP request method?')\n"
     ]
    }
   ],
   "source": [
    "questions = []\n",
    "\n",
    "add_questions(soup)\n",
    "\n",
    "\n"
   ]
  }
 ],
 "metadata": {
  "kernelspec": {
   "display_name": "Python 3",
   "language": "python",
   "name": "python3"
  },
  "language_info": {
   "codemirror_mode": {
    "name": "ipython",
    "version": 3
   },
   "file_extension": ".py",
   "mimetype": "text/x-python",
   "name": "python",
   "nbconvert_exporter": "python",
   "pygments_lexer": "ipython3",
   "version": "3.9.0"
  }
 },
 "nbformat": 4,
 "nbformat_minor": 2
}
